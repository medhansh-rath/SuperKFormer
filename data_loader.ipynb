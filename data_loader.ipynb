{
 "cells": [
  {
   "cell_type": "code",
   "execution_count": 2,
   "id": "e6fca964",
   "metadata": {},
   "outputs": [],
   "source": [
    "import os\n",
    "from torch.utils.data import Dataset\n",
    "from PIL import Image\n",
    "import numpy as np\n",
    "import torch\n",
    "\n",
    "class ScanNet2DSegmentation(Dataset):\n",
    "    def __init__(self, root_dir, transform=None, target_transform=None):\n",
    "        self.root_dir = root_dir\n",
    "        self.transform = transform\n",
    "        self.target_transform = target_transform\n",
    "\n",
    "        self.samples = []\n",
    "        for scene in os.listdir(root_dir):\n",
    "            scene_path = os.path.join(root_dir, scene)\n",
    "            color_dir = os.path.join(scene_path, 'color')\n",
    "            label_dir = os.path.join(scene_path, 'label')\n",
    "            depth_dir = os.path.join(scene_path, 'depth')\n",
    "\n",
    "            if not os.path.exists(label_dir):\n",
    "                continue\n",
    "\n",
    "            for fname in sorted(os.listdir(label_dir)):\n",
    "                if not fname.endswith('.png'):\n",
    "                    continue\n",
    "                f_id = fname.split('.')[0]\n",
    "                rgb_path = os.path.join(color_dir, f_id + '.jpg')\n",
    "                depth_path = os.path.join(depth_dir, f_id + '.png')\n",
    "                label_path = os.path.join(label_dir, f_id + '.png')\n",
    "\n",
    "                if os.path.exists(rgb_path) and os.path.exists(depth_path):\n",
    "                    self.samples.append((rgb_path, depth_path, label_path))\n",
    "\n",
    "    def __len__(self):\n",
    "        return len(self.samples)\n",
    "\n",
    "    def __getitem__(self, idx):\n",
    "        rgb_path, depth_path, label_path = self.samples[idx]\n",
    "\n",
    "        image = Image.open(rgb_path).convert(\"RGB\")\n",
    "        depth = Image.open(depth_path)\n",
    "        label = Image.open(label_path)\n",
    "\n",
    "        # Convert to tensors\n",
    "        image = np.array(image) / 255.0\n",
    "        image = torch.from_numpy(image).permute(2, 0, 1).float()  # CxHxW\n",
    "\n",
    "        depth = torch.from_numpy(np.array(depth)).unsqueeze(0).float()  # 1xHxW\n",
    "        label = torch.from_numpy(np.array(label)).long()  # HxW\n",
    "\n",
    "        if self.transform:\n",
    "            image = self.transform(image)\n",
    "        if self.target_transform:\n",
    "            label = self.target_transform(label)\n",
    "\n",
    "        return {\n",
    "            'rgb': image,\n",
    "            'depth': depth,\n",
    "            'label': label\n",
    "        }\n"
   ]
  },
  {
   "cell_type": "code",
   "execution_count": null,
   "id": "0b69715e",
   "metadata": {},
   "outputs": [
    {
     "name": "stdout",
     "output_type": "stream",
     "text": [
      "torch.Size([4, 3, 968, 1296])\n",
      "torch.Size([4, 1, 480, 640])\n",
      "torch.Size([4, 968, 1296])\n",
      "Sample 0: RGB shape torch.Size([3, 968, 1296]), Depth shape torch.Size([1, 480, 640]), Label shape torch.Size([968, 1296])\n",
      "Sample 1: RGB shape torch.Size([3, 968, 1296]), Depth shape torch.Size([1, 480, 640]), Label shape torch.Size([968, 1296])\n",
      "Sample 2: RGB shape torch.Size([3, 968, 1296]), Depth shape torch.Size([1, 480, 640]), Label shape torch.Size([968, 1296])\n",
      "Sample 3: RGB shape torch.Size([3, 968, 1296]), Depth shape torch.Size([1, 480, 640]), Label shape torch.Size([968, 1296])\n",
      "Sample 4: RGB shape torch.Size([3, 968, 1296]), Depth shape torch.Size([1, 480, 640]), Label shape torch.Size([968, 1296])\n",
      "Sample 5: RGB shape torch.Size([3, 968, 1296]), Depth shape torch.Size([1, 480, 640]), Label shape torch.Size([968, 1296])\n"
     ]
    }
   ],
   "source": [
    "from torch.utils.data import DataLoader\n",
    "\n",
    "dataset = ScanNet2DSegmentation('../scannet_frames_25k')\n",
    "loader = DataLoader(dataset, batch_size=4, num_workers=2, shuffle=True)\n",
    "\n",
    "batch = next(iter(loader))\n",
    "print(batch['rgb'].shape)    # [4, 3, H, W]\n",
    "print(batch['depth'].shape)  # [4, 1, H, W]\n",
    "print(batch['label'].shape)  # [4, H, W]"
   ]
  }
 ],
 "metadata": {
  "kernelspec": {
   "display_name": "sp",
   "language": "python",
   "name": "python3"
  },
  "language_info": {
   "codemirror_mode": {
    "name": "ipython",
    "version": 3
   },
   "file_extension": ".py",
   "mimetype": "text/x-python",
   "name": "python",
   "nbconvert_exporter": "python",
   "pygments_lexer": "ipython3",
   "version": "3.12.9"
  }
 },
 "nbformat": 4,
 "nbformat_minor": 5
}
